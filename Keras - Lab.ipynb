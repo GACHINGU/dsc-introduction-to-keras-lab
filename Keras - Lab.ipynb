{
 "cells": [
  {
   "cell_type": "markdown",
   "metadata": {},
   "source": [
    "# Keras - Lab\n",
    "\n",
    "## Introduction\n",
    "\n",
    "In this lab you'll once again build a neural network, but this time you will be using Keras to do a lot of the heavy lifting.\n",
    "\n",
    "\n",
    "## Objectives\n",
    "\n",
    "You will be able to:\n",
    "\n",
    "- Build a neural network using Keras \n",
    "- Evaluate performance of a neural network using Keras "
   ]
  },
  {
   "cell_type": "markdown",
   "metadata": {},
   "source": [
    "## Required Packages\n",
    "\n",
    "We'll start by importing all of the required packages and classes."
   ]
  },
  {
   "cell_type": "code",
   "execution_count": 2,
   "metadata": {},
   "outputs": [],
   "source": [
    "# lets import our helper tools\n",
    "\n",
    "import matplotlib.pyplot as plt #\n",
    "import pandas as pd\n",
    "import numpy as np\n",
    "import random\n",
    "from sklearn.model_selection import train_test_split\n",
    "from keras.utils.np_utils import to_categorical # to turn numbers to one hot form\n",
    "from sklearn import preprocessing\n",
    "from keras.preprocessing.text import Tokenizer # to turn words into numbers\n",
    "from keras import models, layers, optimizers # tools to build the brain , the neural network"
   ]
  },
  {
   "cell_type": "markdown",
   "metadata": {},
   "source": [
    "## Load the data\n",
    "\n",
    "In this lab you will be classifying bank complaints available in the `'Bank_complaints.csv'` file. "
   ]
  },
  {
   "cell_type": "code",
   "execution_count": 5,
   "metadata": {},
   "outputs": [
    {
     "name": "stdout",
     "output_type": "stream",
     "text": [
      "<class 'pandas.core.frame.DataFrame'>\n",
      "RangeIndex: 60000 entries, 0 to 59999\n",
      "Data columns (total 2 columns):\n",
      " #   Column                        Non-Null Count  Dtype \n",
      "---  ------                        --------------  ----- \n",
      " 0   Product                       60000 non-null  object\n",
      " 1   Consumer complaint narrative  60000 non-null  object\n",
      "dtypes: object(2)\n",
      "memory usage: 937.6+ KB\n",
      "None\n"
     ]
    },
    {
     "data": {
      "text/html": [
       "<div>\n",
       "<style scoped>\n",
       "    .dataframe tbody tr th:only-of-type {\n",
       "        vertical-align: middle;\n",
       "    }\n",
       "\n",
       "    .dataframe tbody tr th {\n",
       "        vertical-align: top;\n",
       "    }\n",
       "\n",
       "    .dataframe thead th {\n",
       "        text-align: right;\n",
       "    }\n",
       "</style>\n",
       "<table border=\"1\" class=\"dataframe\">\n",
       "  <thead>\n",
       "    <tr style=\"text-align: right;\">\n",
       "      <th></th>\n",
       "      <th>Product</th>\n",
       "      <th>Consumer complaint narrative</th>\n",
       "    </tr>\n",
       "  </thead>\n",
       "  <tbody>\n",
       "    <tr>\n",
       "      <th>0</th>\n",
       "      <td>Student loan</td>\n",
       "      <td>In XX/XX/XXXX I filled out the Fedlaon applica...</td>\n",
       "    </tr>\n",
       "    <tr>\n",
       "      <th>1</th>\n",
       "      <td>Student loan</td>\n",
       "      <td>I am being contacted by a debt collector for p...</td>\n",
       "    </tr>\n",
       "    <tr>\n",
       "      <th>2</th>\n",
       "      <td>Student loan</td>\n",
       "      <td>I cosigned XXXX student loans at SallieMae for...</td>\n",
       "    </tr>\n",
       "    <tr>\n",
       "      <th>3</th>\n",
       "      <td>Student loan</td>\n",
       "      <td>Navient has sytematically and illegally failed...</td>\n",
       "    </tr>\n",
       "    <tr>\n",
       "      <th>4</th>\n",
       "      <td>Student loan</td>\n",
       "      <td>My wife became eligible for XXXX Loan Forgiven...</td>\n",
       "    </tr>\n",
       "  </tbody>\n",
       "</table>\n",
       "</div>"
      ],
      "text/plain": [
       "        Product                       Consumer complaint narrative\n",
       "0  Student loan  In XX/XX/XXXX I filled out the Fedlaon applica...\n",
       "1  Student loan  I am being contacted by a debt collector for p...\n",
       "2  Student loan  I cosigned XXXX student loans at SallieMae for...\n",
       "3  Student loan  Navient has sytematically and illegally failed...\n",
       "4  Student loan  My wife became eligible for XXXX Loan Forgiven..."
      ]
     },
     "execution_count": 5,
     "metadata": {},
     "output_type": "execute_result"
    }
   ],
   "source": [
    "# Import data\n",
    "df = pd.read_csv(\"Bank_complaints.csv\")\n",
    "\n",
    "# Inspect data\n",
    "print(df.info())\n",
    "df.head()"
   ]
  },
  {
   "cell_type": "markdown",
   "metadata": {},
   "source": [
    "As mentioned earlier, your task is to categorize banking complaints into various predefined categories. Preview what these categories are and what percent of the complaints each accounts for. "
   ]
  },
  {
   "cell_type": "code",
   "execution_count": 8,
   "metadata": {},
   "outputs": [
    {
     "name": "stdout",
     "output_type": "stream",
     "text": [
      "Student loan                   19.006667\n",
      "Credit card                    15.900000\n",
      "Consumer Loan                  15.790000\n",
      "Mortgage                       13.886667\n",
      "Bank account or service        13.848333\n",
      "Credit reporting               11.440000\n",
      "Checking or savings account    10.128333\n",
      "Name: Product, dtype: float64\n"
     ]
    }
   ],
   "source": [
    "# look at all the complaints categories and see how ,any we have of each\n",
    "print(df[\"Product\"].value_counts(normalize = True)*100)"
   ]
  },
  {
   "cell_type": "markdown",
   "metadata": {},
   "source": [
    "## Preprocessing\n",
    "\n",
    "Before we build our neural network, we need to do several preprocessing steps. First, we will create word vector counts (a bag of words type representation) of our complaints text. Next, we will change the category labels to integers. Finally, we will perform our usual train-test split before building and training our neural network using Keras. With that, let's start munging our data! \n",
    "\n",
    "## One-hot encoding of the complaints\n",
    "\n",
    "Our first step again is to transform our textual data into a numerical representation. As we saw in some of our previous lessons on NLP, there are many ways to do this. Here, we'll use the `Tokenizer()` class from the `preprocessing.text` sub-module of the Keras package.   \n",
    "\n",
    "As with our previous work using NLTK, this will transform our text complaints into word vectors. (Note that the method of creating a vector is different from our previous work with NLTK; as you'll see, word order will be preserved as opposed to a bag of words representation). In the below code, we'll only keep the 2,000 most common words and use one-hot encoding. \n",
    "\n"
   ]
  },
  {
   "cell_type": "code",
   "execution_count": 9,
   "metadata": {},
   "outputs": [],
   "source": [
    "# As a quick preliminary, briefly review the docstring for keras.preprocessing.text.Tokenizer\n",
    "Tokenizer?"
   ]
  },
  {
   "cell_type": "code",
   "execution_count": 11,
   "metadata": {},
   "outputs": [
    {
     "name": "stdout",
     "output_type": "stream",
     "text": [
      "sequences type: <class 'list'>\n",
      "one_hot_results type: <class 'numpy.ndarray'>\n",
      "Found 50334 unique tokens.\n",
      "Dimensions of our coded results: (60000, 2000)\n"
     ]
    }
   ],
   "source": [
    "# ⏰ This cell may take about thirty seconds to run\n",
    "# note we only keep top 2000 most common words\n",
    "# Raw text complaints\n",
    "complaints = df['Consumer complaint narrative'] \n",
    "\n",
    "# Initialize a tokenizer \n",
    "tokenizer = Tokenizer(num_words=2000) \n",
    "\n",
    "# Fit it to the complaints\n",
    "tokenizer.fit_on_texts(complaints) \n",
    "\n",
    "# Generate sequences\n",
    "# Turn each complaint into a list of numbers\n",
    "sequences = tokenizer.texts_to_sequences(complaints) \n",
    "print('sequences type:', type(sequences))\n",
    "\n",
    "# Similar to sequences, but returns a numpy array\n",
    "# make a one-hot-matrix\n",
    "one_hot_results= tokenizer.texts_to_matrix(complaints, mode='binary') \n",
    "print('one_hot_results type:', type(one_hot_results))\n",
    "\n",
    "# Useful if we wish to decode (more explanation below)\n",
    "word_index = tokenizer.word_index \n",
    "\n",
    "# Tokens are the number of unique words across the corpus\n",
    "print('Found %s unique tokens.' % len(word_index)) \n",
    "\n",
    "# Our coded data\n",
    "print('Dimensions of our coded results:', np.shape(one_hot_results)) "
   ]
  },
  {
   "cell_type": "markdown",
   "metadata": {},
   "source": [
    "## Decoding Word Vectors \n",
    "\n",
    "As a note, you can also decode these vectorized representations of the reviews. The `word_index` variable, defined above, stores the mapping from the label number to the actual word. Somewhat tediously, we can turn this dictionary inside out and map it back to our word vectors, giving us roughly the original complaint back. (As you'll see, the text won't be identical as we limited ourselves to top 2000 words.)\n",
    "\n",
    "## Python Review / Mini Challenge\n",
    "\n",
    "While a bit tangential to our main topic of interest, we need to reverse our current dictionary `word_index` which maps words from our corpus to integers. In decoding our `one_hot_results`, we will need to create a dictionary of these integers to the original words. Below, take the `word_index` dictionary object and change the orientation so that the values are keys and the keys values. In other words, you are transforming something of the form {A:1, B:2, C:3} to {1:A, 2:B, 3:C}. "
   ]
  },
  {
   "cell_type": "code",
   "execution_count": 12,
   "metadata": {},
   "outputs": [],
   "source": [
    "# Your code here\n",
    "# lets flip the dictionary\n",
    "reverse_index = {value: key for key , value in word_index.items()}"
   ]
  },
  {
   "cell_type": "markdown",
   "metadata": {},
   "source": [
    "## Back to Decoding Our Word Vectors..."
   ]
  },
  {
   "cell_type": "code",
   "execution_count": 13,
   "metadata": {},
   "outputs": [
    {
     "name": "stdout",
     "output_type": "stream",
     "text": [
      "Original complaint text:\n",
      "I have already filed several complaints about AES/PHEAA. I was notified by a XXXX XXXX let @ XXXX, who pretended to be from your office, he said he was from CFPB. I found out this morning he is n't from your office, but is actually works at XXXX. \r\n",
      "\r\n",
      "This has wasted weeks of my time. They AES/PHEAA confirmed and admitted ( see attached transcript of XXXX, conversation at XXXX ( XXXX ) with XXXX that proves they verified the loans are not mine ) the student loans they had XXXX, and collected on, and reported negate credit reporting in my name are in fact, not mine. \r\n",
      "They conclued their investigation on XXXX admitting they made a mistake and have my name on soneone elses loans. I these XXXX loans total {$10000.00}, original amount. My XXXX loans I got was total {$3500.00}. We proved by providing AES/PHEAA, this with my original promissary notes I located recently, the XXXX of my college provided AES/PHEAA with their original shoeinf amounts of my XXXX loans which show different dates and amounts, the dates and amounts are not even close to matching these loans they have in my name, The original lender, XXXX XXXX Bank notifying AES/PHEAA, they never issued me a student loan, and original Loan Guarantor, XXXX, notifying AES/PHEAA, they never were guarantor of my loans. \r\n",
      "\r\n",
      "XXXX straight forward. But today, this person, XXXX XXXX, told me they know these loans are not mine, and they refuse to remove my name off these XXXX loan 's and correct their mistake, essentially forcing me to pay these loans off, bucause in XXXX they sold the loans to XXXX loans. \r\n",
      "\r\n",
      "This is absurd, first protruding to be this office, and then refusing to correct their mistake. \r\n",
      "\r\n",
      "Please for the love of XXXX will soneone from your office call me at XXXX, today. I am a XXXX vet and they are knowingly discriminating against me. \r\n",
      "Pretending to be you.\n",
      "\n",
      "\n",
      "\n",
      "Decoded review from Tokenizer:\n",
      "i have already filed several complaints about aes i was notified by a xxxx xxxx let xxxx who to be from your office he said he was from cfpb i found out this morning he is n't from your office but is actually works at xxxx \r",
      " \r",
      " this has weeks of my time they aes confirmed and admitted see attached of xxxx conversation at xxxx xxxx with xxxx that they verified the loans are not mine the student loans they had xxxx and on and reported credit reporting in my name are in fact not mine \r",
      " they their investigation on xxxx they made a mistake and have my name on loans i these xxxx loans total 10000 00 original amount my xxxx loans i got was total 00 we by providing aes this with my original notes i located recently the xxxx of my college provided aes with their original amounts of my xxxx loans which show different dates and amounts the dates and amounts are not even close to these loans they have in my name the original lender xxxx xxxx bank notifying aes they never issued me a student loan and original loan xxxx notifying aes they never were of my loans \r",
      " \r",
      " xxxx forward but today this person xxxx xxxx told me they know these loans are not mine and they refuse to remove my name off these xxxx loan 's and correct their mistake essentially me to pay these loans off in xxxx they sold the loans to xxxx loans \r",
      " \r",
      " this is first to be this office and then refusing to correct their mistake \r",
      " \r",
      " please for the of xxxx will from your office call me at xxxx today i am a xxxx and they are against me \r",
      " to be you\n"
     ]
    }
   ],
   "source": [
    "# lets pick one complaint to look at \n",
    "comment_idx_to_preview = 19\n",
    "print('Original complaint text:')\n",
    "print(complaints[comment_idx_to_preview])\n",
    "print('\\n\\n')\n",
    "\n",
    "# The reverse_index cell block above must be complete in order for this cell block to successively execute \n",
    "decoded_review = ' '.join([reverse_index.get(i) for i in sequences[comment_idx_to_preview]])\n",
    "print('Decoded review from Tokenizer:')\n",
    "print(decoded_review)"
   ]
  },
  {
   "cell_type": "markdown",
   "metadata": {},
   "source": [
    "## Convert the Products to Numerical Categories\n",
    "\n",
    "On to step two of our preprocessing: converting our descriptive categories into integers."
   ]
  },
  {
   "cell_type": "code",
   "execution_count": 15,
   "metadata": {},
   "outputs": [
    {
     "name": "stdout",
     "output_type": "stream",
     "text": [
      "Original class labels:\n",
      "['Bank account or service', 'Checking or savings account', 'Consumer Loan', 'Credit card', 'Credit reporting', 'Mortgage', 'Student loan']\n",
      "\n",
      "\n",
      "New product labels:\n",
      "[6 6 6 ... 4 4 4]\n",
      "\n",
      "\n",
      "One hot labels; 7 binary columns, one for each of the categories.\n",
      "[[0. 0. 0. ... 0. 0. 1.]\n",
      " [0. 0. 0. ... 0. 0. 1.]\n",
      " [0. 0. 0. ... 0. 0. 1.]\n",
      " ...\n",
      " [0. 0. 0. ... 1. 0. 0.]\n",
      " [0. 0. 0. ... 1. 0. 0.]\n",
      " [0. 0. 0. ... 1. 0. 0.]]\n",
      "\n",
      "\n",
      "One hot labels shape:\n",
      "(60000, 7)\n"
     ]
    }
   ],
   "source": [
    "# getting our complaint category\n",
    "product = df['Product']\n",
    "\n",
    "# Initialize\n",
    "# turn texts labels into numbers\n",
    "le = preprocessing.LabelEncoder() \n",
    "le.fit(product)\n",
    "print('Original class labels:')\n",
    "print(list(le.classes_))\n",
    "print('\\n')\n",
    "product_cat = le.transform(product)  \n",
    "\n",
    "# If you wish to retrieve the original descriptive labels post production\n",
    "# list(le.inverse_transform([0, 1, 3, 3, 0, 6, 4])) \n",
    "\n",
    "print('New product labels:')\n",
    "print(product_cat)\n",
    "print('\\n')\n",
    "\n",
    "# Each row will be all zeros except for the category for that observation \n",
    "print('One hot labels; 7 binary columns, one for each of the categories.') \n",
    "product_onehot = to_categorical(product_cat)\n",
    "print(product_onehot)\n",
    "print('\\n')\n",
    "\n",
    "print('One hot labels shape:')\n",
    "print(np.shape(product_onehot))"
   ]
  },
  {
   "cell_type": "markdown",
   "metadata": {},
   "source": [
    "## Train-test split\n",
    "\n",
    "Now for our final preprocessing step: the usual train-test split. "
   ]
  },
  {
   "cell_type": "code",
   "execution_count": 17,
   "metadata": {},
   "outputs": [
    {
     "name": "stdout",
     "output_type": "stream",
     "text": [
      "Test label shape: (1500, 7)\n",
      "Train label shape: (58500, 7)\n",
      "Test shape: (1500, 2000)\n",
      "Train shape: (58500, 2000)\n"
     ]
    }
   ],
   "source": [
    "random.seed(123)\n",
    "test_index = random.sample(range(1,10000), 1500)\n",
    "\n",
    "test = one_hot_results[test_index]\n",
    "train = np.delete(one_hot_results, test_index, 0)\n",
    "\n",
    "label_test = product_onehot[test_index]\n",
    "label_train = np.delete(product_onehot, test_index, 0)\n",
    "\n",
    "print('Test label shape:', np.shape(label_test))\n",
    "print('Train label shape:', np.shape(label_train))\n",
    "print('Test shape:', np.shape(test))\n",
    "print('Train shape:', np.shape(train))"
   ]
  },
  {
   "cell_type": "markdown",
   "metadata": {},
   "source": [
    "## Building the network\n",
    "\n",
    "Let's build a fully connected (Dense) layer network with relu activation in Keras. You can do this using: `Dense(16, activation='relu')`. \n",
    "\n",
    "In this example, use two hidden layers with 50 units in the first layer and 25 in the second, both with a `'relu'` activation function. Because we are dealing with a multiclass problem (classifying the complaints into 7 categories), we use a use a `'softmax'` classifier in order to output 7 class probabilities per case.  "
   ]
  },
  {
   "cell_type": "code",
   "execution_count": 19,
   "metadata": {},
   "outputs": [],
   "source": [
    "# lets make the brain\n",
    "# Initialize a sequential model\n",
    "model = models.Sequential()\n",
    "\n",
    "# Two layers with relu activation\n",
    "model.add(layers.Dense(50, activation=\"relu\", input_shape=(2000,)))\n",
    "model.add(layers.Dense(25, activation=\"relu\"))\n",
    "# One layer with softmax activation \n",
    "model.add(layers.Dense(7, activation=\"softmax\"))"
   ]
  },
  {
   "cell_type": "markdown",
   "metadata": {},
   "source": [
    "## Compiling the model\n",
    "\n",
    "Now, compile the model! This time, use `'categorical_crossentropy'` as the loss function and stochastic gradient descent, `'SGD'` as the optimizer. As in the previous lesson, include the accuracy as a metric."
   ]
  },
  {
   "cell_type": "code",
   "execution_count": 23,
   "metadata": {},
   "outputs": [],
   "source": [
    "# lets prepare our brain to learn\n",
    "# Compile the model\n",
    "model.compile(optimizer=\"SGD\", # how it learns\n",
    "             loss= \"categorical_crossentropy\", # how it checks mistakes\n",
    "             metrics=['accuracy']) # what it tracks"
   ]
  },
  {
   "cell_type": "markdown",
   "metadata": {},
   "source": [
    "## Training the model\n",
    "\n",
    "In the compiler, you'll be passing the optimizer (SGD = stochastic gradient descent), loss function, and metrics. Train the model for 120 epochs in mini-batches of 256 samples.\n",
    "\n",
    "_Note:_ ⏰ _Your code may take about one to two minutes to run._"
   ]
  },
  {
   "cell_type": "code",
   "execution_count": 24,
   "metadata": {},
   "outputs": [
    {
     "name": "stdout",
     "output_type": "stream",
     "text": [
      "Epoch 1/120\n",
      "229/229 [==============================] - 1s 3ms/step - loss: 1.8465 - accuracy: 0.2638\n",
      "Epoch 2/120\n",
      "229/229 [==============================] - 1s 3ms/step - loss: 1.5070 - accuracy: 0.5108\n",
      "Epoch 3/120\n",
      "229/229 [==============================] - 1s 3ms/step - loss: 1.1174 - accuracy: 0.6573\n",
      "Epoch 4/120\n",
      "229/229 [==============================] - 1s 3ms/step - loss: 0.8892 - accuracy: 0.7072\n",
      "Epoch 5/120\n",
      "229/229 [==============================] - 1s 3ms/step - loss: 0.7752 - accuracy: 0.7309\n",
      "Epoch 6/120\n",
      "229/229 [==============================] - 1s 3ms/step - loss: 0.7120 - accuracy: 0.7452\n",
      "Epoch 7/120\n",
      "229/229 [==============================] - 1s 3ms/step - loss: 0.6716 - accuracy: 0.7560\n",
      "Epoch 8/120\n",
      "229/229 [==============================] - 1s 3ms/step - loss: 0.6431 - accuracy: 0.7650\n",
      "Epoch 9/120\n",
      "229/229 [==============================] - 1s 3ms/step - loss: 0.6209 - accuracy: 0.7715\n",
      "Epoch 10/120\n",
      "229/229 [==============================] - 1s 3ms/step - loss: 0.6028 - accuracy: 0.7786\n",
      "Epoch 11/120\n",
      "229/229 [==============================] - 1s 3ms/step - loss: 0.5880 - accuracy: 0.7832\n",
      "Epoch 12/120\n",
      "229/229 [==============================] - 1s 3ms/step - loss: 0.5748 - accuracy: 0.7889\n",
      "Epoch 13/120\n",
      "229/229 [==============================] - 1s 3ms/step - loss: 0.5632 - accuracy: 0.7935\n",
      "Epoch 14/120\n",
      "229/229 [==============================] - 1s 3ms/step - loss: 0.5528 - accuracy: 0.7977\n",
      "Epoch 15/120\n",
      "229/229 [==============================] - 1s 3ms/step - loss: 0.5434 - accuracy: 0.8011\n",
      "Epoch 16/120\n",
      "229/229 [==============================] - 1s 3ms/step - loss: 0.5347 - accuracy: 0.8048\n",
      "Epoch 17/120\n",
      "229/229 [==============================] - 1s 3ms/step - loss: 0.5269 - accuracy: 0.8086\n",
      "Epoch 18/120\n",
      "229/229 [==============================] - 1s 3ms/step - loss: 0.5193 - accuracy: 0.8110\n",
      "Epoch 19/120\n",
      "229/229 [==============================] - 1s 3ms/step - loss: 0.5125 - accuracy: 0.8134\n",
      "Epoch 20/120\n",
      "229/229 [==============================] - 1s 3ms/step - loss: 0.5060 - accuracy: 0.8173\n",
      "Epoch 21/120\n",
      "229/229 [==============================] - 1s 3ms/step - loss: 0.5001 - accuracy: 0.8192\n",
      "Epoch 22/120\n",
      "229/229 [==============================] - 1s 3ms/step - loss: 0.4943 - accuracy: 0.8225\n",
      "Epoch 23/120\n",
      "229/229 [==============================] - 1s 3ms/step - loss: 0.4893 - accuracy: 0.8249\n",
      "Epoch 24/120\n",
      "229/229 [==============================] - 1s 3ms/step - loss: 0.4843 - accuracy: 0.8261\n",
      "Epoch 25/120\n",
      "229/229 [==============================] - 1s 3ms/step - loss: 0.4795 - accuracy: 0.8272\n",
      "Epoch 26/120\n",
      "229/229 [==============================] - 1s 3ms/step - loss: 0.4753 - accuracy: 0.8289\n",
      "Epoch 27/120\n",
      "229/229 [==============================] - 1s 3ms/step - loss: 0.4709 - accuracy: 0.8306\n",
      "Epoch 28/120\n",
      "229/229 [==============================] - 1s 3ms/step - loss: 0.4668 - accuracy: 0.8328\n",
      "Epoch 29/120\n",
      "229/229 [==============================] - 1s 3ms/step - loss: 0.4629 - accuracy: 0.8344\n",
      "Epoch 30/120\n",
      "229/229 [==============================] - 1s 3ms/step - loss: 0.4593 - accuracy: 0.8358\n",
      "Epoch 31/120\n",
      "229/229 [==============================] - 1s 3ms/step - loss: 0.4558 - accuracy: 0.8364\n",
      "Epoch 32/120\n",
      "229/229 [==============================] - 1s 3ms/step - loss: 0.4527 - accuracy: 0.8385\n",
      "Epoch 33/120\n",
      "229/229 [==============================] - 1s 3ms/step - loss: 0.4494 - accuracy: 0.8391\n",
      "Epoch 34/120\n",
      "229/229 [==============================] - 1s 3ms/step - loss: 0.4462 - accuracy: 0.8404\n",
      "Epoch 35/120\n",
      "229/229 [==============================] - 1s 3ms/step - loss: 0.4431 - accuracy: 0.8414\n",
      "Epoch 36/120\n",
      "229/229 [==============================] - 1s 3ms/step - loss: 0.4406 - accuracy: 0.8423\n",
      "Epoch 37/120\n",
      "229/229 [==============================] - 1s 3ms/step - loss: 0.4378 - accuracy: 0.8440\n",
      "Epoch 38/120\n",
      "229/229 [==============================] - 1s 3ms/step - loss: 0.4351 - accuracy: 0.8451\n",
      "Epoch 39/120\n",
      "229/229 [==============================] - 1s 3ms/step - loss: 0.4325 - accuracy: 0.8462\n",
      "Epoch 40/120\n",
      "229/229 [==============================] - 1s 3ms/step - loss: 0.4305 - accuracy: 0.8469\n",
      "Epoch 41/120\n",
      "229/229 [==============================] - 1s 3ms/step - loss: 0.4279 - accuracy: 0.8476\n",
      "Epoch 42/120\n",
      "229/229 [==============================] - 1s 3ms/step - loss: 0.4255 - accuracy: 0.8492\n",
      "Epoch 43/120\n",
      "229/229 [==============================] - 1s 3ms/step - loss: 0.4234 - accuracy: 0.8497\n",
      "Epoch 44/120\n",
      "229/229 [==============================] - 1s 3ms/step - loss: 0.4213 - accuracy: 0.8506\n",
      "Epoch 45/120\n",
      "229/229 [==============================] - 1s 3ms/step - loss: 0.4191 - accuracy: 0.8518\n",
      "Epoch 46/120\n",
      "229/229 [==============================] - 1s 3ms/step - loss: 0.4172 - accuracy: 0.8521\n",
      "Epoch 47/120\n",
      "229/229 [==============================] - 1s 3ms/step - loss: 0.4151 - accuracy: 0.8533\n",
      "Epoch 48/120\n",
      "229/229 [==============================] - 1s 3ms/step - loss: 0.4132 - accuracy: 0.8530\n",
      "Epoch 49/120\n",
      "229/229 [==============================] - 1s 3ms/step - loss: 0.4114 - accuracy: 0.8542\n",
      "Epoch 50/120\n",
      "229/229 [==============================] - 1s 3ms/step - loss: 0.4095 - accuracy: 0.8550\n",
      "Epoch 51/120\n",
      "229/229 [==============================] - 1s 3ms/step - loss: 0.4078 - accuracy: 0.8554\n",
      "Epoch 52/120\n",
      "229/229 [==============================] - 1s 3ms/step - loss: 0.4061 - accuracy: 0.8566\n",
      "Epoch 53/120\n",
      "229/229 [==============================] - 1s 3ms/step - loss: 0.4043 - accuracy: 0.8570\n",
      "Epoch 54/120\n",
      "229/229 [==============================] - 1s 3ms/step - loss: 0.4028 - accuracy: 0.8567\n",
      "Epoch 55/120\n",
      "229/229 [==============================] - 1s 3ms/step - loss: 0.4011 - accuracy: 0.8585\n",
      "Epoch 56/120\n",
      "229/229 [==============================] - 1s 3ms/step - loss: 0.3997 - accuracy: 0.8583\n",
      "Epoch 57/120\n",
      "229/229 [==============================] - 1s 3ms/step - loss: 0.3982 - accuracy: 0.8587\n",
      "Epoch 58/120\n",
      "229/229 [==============================] - 1s 3ms/step - loss: 0.3965 - accuracy: 0.8592\n",
      "Epoch 59/120\n",
      "229/229 [==============================] - 1s 3ms/step - loss: 0.3949 - accuracy: 0.8603\n",
      "Epoch 60/120\n",
      "229/229 [==============================] - 1s 3ms/step - loss: 0.3937 - accuracy: 0.8603\n",
      "Epoch 61/120\n",
      "229/229 [==============================] - 1s 3ms/step - loss: 0.3921 - accuracy: 0.8616\n",
      "Epoch 62/120\n",
      "229/229 [==============================] - 1s 4ms/step - loss: 0.3909 - accuracy: 0.8616\n",
      "Epoch 63/120\n",
      "229/229 [==============================] - 1s 3ms/step - loss: 0.3893 - accuracy: 0.8620\n",
      "Epoch 64/120\n",
      "229/229 [==============================] - 1s 3ms/step - loss: 0.3883 - accuracy: 0.8621\n",
      "Epoch 65/120\n",
      "229/229 [==============================] - 1s 3ms/step - loss: 0.3870 - accuracy: 0.8632\n",
      "Epoch 66/120\n",
      "229/229 [==============================] - 1s 3ms/step - loss: 0.3857 - accuracy: 0.8637\n",
      "Epoch 67/120\n",
      "229/229 [==============================] - 1s 3ms/step - loss: 0.3845 - accuracy: 0.8635\n",
      "Epoch 68/120\n",
      "229/229 [==============================] - 1s 3ms/step - loss: 0.3831 - accuracy: 0.8636\n",
      "Epoch 69/120\n",
      "229/229 [==============================] - 1s 3ms/step - loss: 0.3819 - accuracy: 0.8648\n",
      "Epoch 70/120\n",
      "229/229 [==============================] - 1s 3ms/step - loss: 0.3804 - accuracy: 0.8651\n",
      "Epoch 71/120\n",
      "229/229 [==============================] - 1s 3ms/step - loss: 0.3796 - accuracy: 0.8659\n",
      "Epoch 72/120\n",
      "229/229 [==============================] - 1s 3ms/step - loss: 0.3783 - accuracy: 0.8663\n",
      "Epoch 73/120\n",
      "229/229 [==============================] - 1s 3ms/step - loss: 0.3774 - accuracy: 0.8668\n",
      "Epoch 74/120\n",
      "229/229 [==============================] - 1s 3ms/step - loss: 0.3760 - accuracy: 0.8665\n",
      "Epoch 75/120\n",
      "229/229 [==============================] - 1s 3ms/step - loss: 0.3747 - accuracy: 0.8675\n",
      "Epoch 76/120\n",
      "229/229 [==============================] - 1s 3ms/step - loss: 0.3739 - accuracy: 0.8671\n",
      "Epoch 77/120\n",
      "229/229 [==============================] - 1s 3ms/step - loss: 0.3727 - accuracy: 0.8681\n",
      "Epoch 78/120\n",
      "229/229 [==============================] - 1s 3ms/step - loss: 0.3718 - accuracy: 0.8677\n",
      "Epoch 79/120\n",
      "229/229 [==============================] - 1s 3ms/step - loss: 0.3707 - accuracy: 0.8691\n",
      "Epoch 80/120\n",
      "229/229 [==============================] - 1s 3ms/step - loss: 0.3697 - accuracy: 0.8688\n",
      "Epoch 81/120\n"
     ]
    },
    {
     "name": "stdout",
     "output_type": "stream",
     "text": [
      "229/229 [==============================] - 1s 3ms/step - loss: 0.3685 - accuracy: 0.8691\n",
      "Epoch 82/120\n",
      "229/229 [==============================] - 1s 3ms/step - loss: 0.3672 - accuracy: 0.8694\n",
      "Epoch 83/120\n",
      "229/229 [==============================] - 1s 3ms/step - loss: 0.3667 - accuracy: 0.8692\n",
      "Epoch 84/120\n",
      "229/229 [==============================] - 1s 3ms/step - loss: 0.3657 - accuracy: 0.8706\n",
      "Epoch 85/120\n",
      "229/229 [==============================] - 1s 3ms/step - loss: 0.3645 - accuracy: 0.8714\n",
      "Epoch 86/120\n",
      "229/229 [==============================] - 1s 3ms/step - loss: 0.3634 - accuracy: 0.8714\n",
      "Epoch 87/120\n",
      "229/229 [==============================] - 1s 3ms/step - loss: 0.3626 - accuracy: 0.8717\n",
      "Epoch 88/120\n",
      "229/229 [==============================] - 1s 3ms/step - loss: 0.3616 - accuracy: 0.8714\n",
      "Epoch 89/120\n",
      "229/229 [==============================] - 1s 3ms/step - loss: 0.3607 - accuracy: 0.8717\n",
      "Epoch 90/120\n",
      "229/229 [==============================] - 1s 3ms/step - loss: 0.3596 - accuracy: 0.8727\n",
      "Epoch 91/120\n",
      "229/229 [==============================] - 1s 3ms/step - loss: 0.3588 - accuracy: 0.8721\n",
      "Epoch 92/120\n",
      "229/229 [==============================] - 1s 3ms/step - loss: 0.3579 - accuracy: 0.8728\n",
      "Epoch 93/120\n",
      "229/229 [==============================] - 1s 3ms/step - loss: 0.3569 - accuracy: 0.8733\n",
      "Epoch 94/120\n",
      "229/229 [==============================] - 1s 3ms/step - loss: 0.3560 - accuracy: 0.8739\n",
      "Epoch 95/120\n",
      "229/229 [==============================] - 1s 3ms/step - loss: 0.3551 - accuracy: 0.8743\n",
      "Epoch 96/120\n",
      "229/229 [==============================] - 1s 3ms/step - loss: 0.3543 - accuracy: 0.8740\n",
      "Epoch 97/120\n",
      "229/229 [==============================] - 1s 3ms/step - loss: 0.3536 - accuracy: 0.8739\n",
      "Epoch 98/120\n",
      "229/229 [==============================] - 1s 3ms/step - loss: 0.3522 - accuracy: 0.8744\n",
      "Epoch 99/120\n",
      "229/229 [==============================] - 1s 3ms/step - loss: 0.3515 - accuracy: 0.8751\n",
      "Epoch 100/120\n",
      "229/229 [==============================] - 1s 3ms/step - loss: 0.3509 - accuracy: 0.8759\n",
      "Epoch 101/120\n",
      "229/229 [==============================] - 1s 3ms/step - loss: 0.3499 - accuracy: 0.8755\n",
      "Epoch 102/120\n",
      "229/229 [==============================] - 1s 3ms/step - loss: 0.3490 - accuracy: 0.8759\n",
      "Epoch 103/120\n",
      "229/229 [==============================] - 1s 3ms/step - loss: 0.3482 - accuracy: 0.8762\n",
      "Epoch 104/120\n",
      "229/229 [==============================] - 1s 3ms/step - loss: 0.3475 - accuracy: 0.8763\n",
      "Epoch 105/120\n",
      "229/229 [==============================] - 1s 3ms/step - loss: 0.3464 - accuracy: 0.8774\n",
      "Epoch 106/120\n",
      "229/229 [==============================] - 1s 3ms/step - loss: 0.3455 - accuracy: 0.8770\n",
      "Epoch 107/120\n",
      "229/229 [==============================] - 1s 3ms/step - loss: 0.3447 - accuracy: 0.8773\n",
      "Epoch 108/120\n",
      "229/229 [==============================] - 1s 3ms/step - loss: 0.3439 - accuracy: 0.8780\n",
      "Epoch 109/120\n",
      "229/229 [==============================] - 1s 3ms/step - loss: 0.3433 - accuracy: 0.8777\n",
      "Epoch 110/120\n",
      "229/229 [==============================] - 1s 3ms/step - loss: 0.3422 - accuracy: 0.8788\n",
      "Epoch 111/120\n",
      "229/229 [==============================] - 1s 3ms/step - loss: 0.3415 - accuracy: 0.8789\n",
      "Epoch 112/120\n",
      "229/229 [==============================] - 1s 3ms/step - loss: 0.3406 - accuracy: 0.8788\n",
      "Epoch 113/120\n",
      "229/229 [==============================] - 1s 3ms/step - loss: 0.3400 - accuracy: 0.8790\n",
      "Epoch 114/120\n",
      "229/229 [==============================] - 1s 3ms/step - loss: 0.3394 - accuracy: 0.8793\n",
      "Epoch 115/120\n",
      "229/229 [==============================] - 1s 3ms/step - loss: 0.3382 - accuracy: 0.8798\n",
      "Epoch 116/120\n",
      "229/229 [==============================] - 1s 3ms/step - loss: 0.3375 - accuracy: 0.8795\n",
      "Epoch 117/120\n",
      "229/229 [==============================] - 1s 3ms/step - loss: 0.3368 - accuracy: 0.8799\n",
      "Epoch 118/120\n",
      "229/229 [==============================] - 1s 3ms/step - loss: 0.3358 - accuracy: 0.8808\n",
      "Epoch 119/120\n",
      "229/229 [==============================] - 1s 3ms/step - loss: 0.3352 - accuracy: 0.8807\n",
      "Epoch 120/120\n",
      "229/229 [==============================] - 1s 3ms/step - loss: 0.3342 - accuracy: 0.8802\n"
     ]
    }
   ],
   "source": [
    "# Train the model to learn\n",
    "history = model.fit(train,\n",
    "                   label_train, # the correct labels the model should learn\n",
    "                   epochs=120, # how many times the model should practice\n",
    "                   batch_size=256, # how much of the samples it studies\n",
    "                   verbose=1) # show progress, show me whats happening while its learning"
   ]
  },
  {
   "cell_type": "markdown",
   "metadata": {},
   "source": [
    "Recall that the dictionary `history` has two entries: the loss and the accuracy achieved using the training set."
   ]
  },
  {
   "cell_type": "code",
   "execution_count": 25,
   "metadata": {},
   "outputs": [
    {
     "data": {
      "text/plain": [
       "dict_keys(['loss', 'accuracy'])"
      ]
     },
     "execution_count": 25,
     "metadata": {},
     "output_type": "execute_result"
    }
   ],
   "source": [
    "# look at what history recorded\n",
    "history_dict = history.history\n",
    "history_dict.keys()"
   ]
  },
  {
   "cell_type": "markdown",
   "metadata": {},
   "source": [
    "## Plot the results\n",
    "\n",
    "As you might expect, we'll use our `matplotlib` for graphing. Use the data stored in the `history_dict` above to plot the loss vs epochs and the accuracy vs epochs. "
   ]
  },
  {
   "cell_type": "code",
   "execution_count": 30,
   "metadata": {},
   "outputs": [
    {
     "data": {
      "image/png": "[encoded data removed]",
      "text/plain": [
       "<Figure size 576x432 with 1 Axes>"
      ]
     },
     "metadata": {
      "needs_background": "light"
     },
     "output_type": "display_data"
    }
   ],
   "source": [
    "# lets plot how the model learned\n",
    "# Plot the loss vs the number of epoch\n",
    "loss_values = history_dict[\"loss\"]\n",
    "accuracy_values = history_dict[\"accuracy\"]\n",
    "\n",
    "epochs = range(1, len(loss_values)+ 1)\n",
    "\n",
    "plt.figure(figsize=(8,6))\n",
    "plt.plot(epochs, loss_values, 'b', label=\"Training loss\")\n",
    "plt.title(\"Training loss over epochs\")\n",
    "plt.xlabel(\"Epochs\")\n",
    "plt.ylabel(\"Loss\")\n",
    "plt.legend()\n",
    "plt.show();"
   ]
  },
  {
   "cell_type": "code",
   "execution_count": 32,
   "metadata": {},
   "outputs": [
    {
     "data": {
      "image/png": "[encoded data removed]",
      "text/plain": [
       "<Figure size 576x432 with 1 Axes>"
      ]
     },
     "metadata": {
      "needs_background": "light"
     },
     "output_type": "display_data"
    }
   ],
   "source": [
    "# Plot the training accuracy vs the number of epochs\n",
    "plt.figure(figsize=(8,6))\n",
    "plt.plot(epochs,accuracy_values, 'r', label=\"Train accuracy\")\n",
    "plt.title(\"Train accuracy over epochs\")\n",
    "plt.xlabel(\"Epochs\")\n",
    "plt.ylabel(\"Loss\")\n",
    "plt.legend()\n",
    "plt.show()"
   ]
  },
  {
   "cell_type": "markdown",
   "metadata": {},
   "source": [
    "It seems like we could just keep on going and accuracy would go up!"
   ]
  },
  {
   "cell_type": "markdown",
   "metadata": {},
   "source": [
    "## Make predictions\n",
    "\n",
    "Finally, it's time to make predictions. Use the relevant method discussed in the previous lesson to output (probability) predictions for the test set."
   ]
  },
  {
   "cell_type": "code",
   "execution_count": 36,
   "metadata": {},
   "outputs": [],
   "source": [
    "# let the model guess on the test set\n",
    "# Output (probability) predictions for the test set \n",
    "y_hat_test = model.predict(test)"
   ]
  },
  {
   "cell_type": "markdown",
   "metadata": {},
   "source": [
    "## Evaluate Performance\n",
    "\n",
    "Finally, print the loss and accuracy for both the train and test sets of the final trained model."
   ]
  },
  {
   "cell_type": "code",
   "execution_count": 37,
   "metadata": {},
   "outputs": [
    {
     "name": "stdout",
     "output_type": "stream",
     "text": [
      "1829/1829 [==============================] - 1s 594us/step - loss: 0.3295 - accuracy: 0.8827\n"
     ]
    },
    {
     "data": {
      "text/plain": [
       "[0.32949113845825195, 0.8826837539672852]"
      ]
     },
     "execution_count": 37,
     "metadata": {},
     "output_type": "execute_result"
    }
   ],
   "source": [
    "# check ho good it did on training data\n",
    "# Print the loss and accuracy for the training set \n",
    "results_train = model.evaluate(train, label_train)\n",
    "results_train"
   ]
  },
  {
   "cell_type": "code",
   "execution_count": 38,
   "metadata": {},
   "outputs": [
    {
     "name": "stdout",
     "output_type": "stream",
     "text": [
      "47/47 [==============================] - 0s 725us/step - loss: 0.2438 - accuracy: 0.9293\n"
     ]
    },
    {
     "data": {
      "text/plain": [
       "[0.24377381801605225, 0.9293333292007446]"
      ]
     },
     "execution_count": 38,
     "metadata": {},
     "output_type": "execute_result"
    }
   ],
   "source": [
    "# check how good it did on test dat\n",
    "# Print the loss and accuracy for the test set \n",
    "results_test = model.evaluate(test, label_test)\n",
    "results_test"
   ]
  },
  {
   "cell_type": "markdown",
   "metadata": {},
   "source": [
    "We can see that the training set results are really good, and the test set results seem to be even better. In general, this type of result will be rare, as train set results are usually at least a bit better than test set results.\n",
    "\n",
    "## Summary \n",
    "\n",
    "Congratulations! In this lab, you built a neural network thanks to the tools provided by Keras! In upcoming lessons and labs we'll continue to investigate further ideas regarding how to tune and refine these models for increased accuracy and performance."
   ]
  }
 ],
 "metadata": {
  "kernelspec": {
   "display_name": "Python 3",
   "language": "python",
   "name": "python3"
  },
  "language_info": {
   "codemirror_mode": {
    "name": "ipython",
    "version": 3
   },
   "file_extension": ".py",
   "mimetype": "text/x-python",
   "name": "python",
   "nbconvert_exporter": "python",
   "pygments_lexer": "ipython3",
   "version": "3.8.5"
  },
  "toc": {
   "base_numbering": 1,
   "nav_menu": {},
   "number_sections": true,
   "sideBar": true,
   "skip_h1_title": false,
   "title_cell": "Table of Contents",
   "title_sidebar": "Contents",
   "toc_cell": false,
   "toc_position": {},
   "toc_section_display": true,
   "toc_window_display": false
  }
 },
 "nbformat": 4,
 "nbformat_minor": 2
}
